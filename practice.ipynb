{
 "cells": [
  {
   "cell_type": "code",
   "execution_count": 1,
   "id": "35e76791-a94a-49c9-bcf8-972b5122eff1",
   "metadata": {
    "tags": []
   },
   "outputs": [],
   "source": [
    "import numpy as np\n",
    "import pandas as pd "
   ]
  },
  {
   "cell_type": "code",
   "execution_count": 2,
   "id": "011f8e34-3ba5-42e1-9b36-51842a008f5e",
   "metadata": {
    "tags": []
   },
   "outputs": [],
   "source": [
    "arr  = np.random.rand(3,9)"
   ]
  },
  {
   "cell_type": "code",
   "execution_count": 3,
   "id": "b70d6115-b25d-4d2e-8b6b-01d811efd0bf",
   "metadata": {
    "tags": []
   },
   "outputs": [
    {
     "data": {
      "text/plain": [
       "array([[0.98881859, 0.00731058, 0.46112174],\n",
       "       [0.20538347, 0.60744992, 0.40659705],\n",
       "       [0.34127337, 0.43968627, 0.43113889],\n",
       "       [0.20098542, 0.9172243 , 0.78517732],\n",
       "       [0.75408183, 0.36012078, 0.40690281],\n",
       "       [0.325264  , 0.62777689, 0.26959809],\n",
       "       [0.42508676, 0.38302302, 0.59787803],\n",
       "       [0.73076614, 0.41330717, 0.58282383],\n",
       "       [0.31034123, 0.60143744, 0.69662344]])"
      ]
     },
     "execution_count": 3,
     "metadata": {},
     "output_type": "execute_result"
    }
   ],
   "source": [
    "arr.T"
   ]
  },
  {
   "cell_type": "code",
   "execution_count": 4,
   "id": "877f36a2-60fa-4f99-9e75-179f9eb2fb0f",
   "metadata": {
    "tags": []
   },
   "outputs": [],
   "source": [
    "creat = np.zeros([10,10])"
   ]
  },
  {
   "cell_type": "code",
   "execution_count": 5,
   "id": "a013138f-c4ae-4e2b-8dae-a1f77d195e5f",
   "metadata": {
    "tags": []
   },
   "outputs": [
    {
     "data": {
      "text/plain": [
       "array([[0.98881859, 0.20538347, 0.34127337, 0.20098542, 0.75408183,\n",
       "        0.325264  , 0.42508676, 0.73076614, 0.31034123],\n",
       "       [0.00731058, 0.60744992, 0.43968627, 0.9172243 , 0.36012078,\n",
       "        0.62777689, 0.38302302, 0.41330717, 0.60143744]])"
      ]
     },
     "execution_count": 5,
     "metadata": {},
     "output_type": "execute_result"
    }
   ],
   "source": [
    "arr[:-1]"
   ]
  },
  {
   "cell_type": "code",
   "execution_count": 6,
   "id": "2105f761-fdb1-41d3-9600-ea291a85a2ca",
   "metadata": {},
   "outputs": [],
   "source": [
    "data ={\"science\":[45,36,92,56,85,52],\"maths\":[54,81,68,87,51,56],\"english\":[84,84,48,73,54,54],\"hindi\":[84,35,99,56,54,78],\"sst\":[45,84,63,89,45,35],\"computer\":[54,51,54,68,88,54],\"Total\":[np.nan,np.nan,np.nan,np.nan,np.nan,np.nan]}"
   ]
  },
  {
   "cell_type": "code",
   "execution_count": 7,
   "id": "24401b59-11ab-4604-b68b-a9f237349c81",
   "metadata": {
    "tags": []
   },
   "outputs": [
    {
     "data": {
      "text/html": [
       "<div>\n",
       "<style scoped>\n",
       "    .dataframe tbody tr th:only-of-type {\n",
       "        vertical-align: middle;\n",
       "    }\n",
       "\n",
       "    .dataframe tbody tr th {\n",
       "        vertical-align: top;\n",
       "    }\n",
       "\n",
       "    .dataframe thead th {\n",
       "        text-align: right;\n",
       "    }\n",
       "</style>\n",
       "<table border=\"1\" class=\"dataframe\">\n",
       "  <thead>\n",
       "    <tr style=\"text-align: right;\">\n",
       "      <th></th>\n",
       "      <th>science</th>\n",
       "      <th>maths</th>\n",
       "      <th>english</th>\n",
       "      <th>hindi</th>\n",
       "      <th>sst</th>\n",
       "      <th>computer</th>\n",
       "      <th>Total</th>\n",
       "    </tr>\n",
       "  </thead>\n",
       "  <tbody>\n",
       "    <tr>\n",
       "      <th>0</th>\n",
       "      <td>45</td>\n",
       "      <td>54</td>\n",
       "      <td>84</td>\n",
       "      <td>84</td>\n",
       "      <td>45</td>\n",
       "      <td>54</td>\n",
       "      <td>NaN</td>\n",
       "    </tr>\n",
       "    <tr>\n",
       "      <th>1</th>\n",
       "      <td>36</td>\n",
       "      <td>81</td>\n",
       "      <td>84</td>\n",
       "      <td>35</td>\n",
       "      <td>84</td>\n",
       "      <td>51</td>\n",
       "      <td>NaN</td>\n",
       "    </tr>\n",
       "    <tr>\n",
       "      <th>2</th>\n",
       "      <td>92</td>\n",
       "      <td>68</td>\n",
       "      <td>48</td>\n",
       "      <td>99</td>\n",
       "      <td>63</td>\n",
       "      <td>54</td>\n",
       "      <td>NaN</td>\n",
       "    </tr>\n",
       "    <tr>\n",
       "      <th>3</th>\n",
       "      <td>56</td>\n",
       "      <td>87</td>\n",
       "      <td>73</td>\n",
       "      <td>56</td>\n",
       "      <td>89</td>\n",
       "      <td>68</td>\n",
       "      <td>NaN</td>\n",
       "    </tr>\n",
       "    <tr>\n",
       "      <th>4</th>\n",
       "      <td>85</td>\n",
       "      <td>51</td>\n",
       "      <td>54</td>\n",
       "      <td>54</td>\n",
       "      <td>45</td>\n",
       "      <td>88</td>\n",
       "      <td>NaN</td>\n",
       "    </tr>\n",
       "    <tr>\n",
       "      <th>5</th>\n",
       "      <td>52</td>\n",
       "      <td>56</td>\n",
       "      <td>54</td>\n",
       "      <td>78</td>\n",
       "      <td>35</td>\n",
       "      <td>54</td>\n",
       "      <td>NaN</td>\n",
       "    </tr>\n",
       "  </tbody>\n",
       "</table>\n",
       "</div>"
      ],
      "text/plain": [
       "   science  maths  english  hindi  sst  computer  Total\n",
       "0       45     54       84     84   45        54    NaN\n",
       "1       36     81       84     35   84        51    NaN\n",
       "2       92     68       48     99   63        54    NaN\n",
       "3       56     87       73     56   89        68    NaN\n",
       "4       85     51       54     54   45        88    NaN\n",
       "5       52     56       54     78   35        54    NaN"
      ]
     },
     "execution_count": 7,
     "metadata": {},
     "output_type": "execute_result"
    }
   ],
   "source": [
    "df1 = pd.DataFrame(data)\n",
    "df1"
   ]
  },
  {
   "cell_type": "code",
   "execution_count": 8,
   "id": "eace69ad-631d-4527-8799-b5cc7d3a83eb",
   "metadata": {
    "tags": []
   },
   "outputs": [],
   "source": [
    "row_name = ['Aman','Deepak','Rohan','Rohit','Harshit','varun']"
   ]
  },
  {
   "cell_type": "code",
   "execution_count": 9,
   "id": "8f133a1e-ec7e-4eeb-a661-e6fe65a40ee2",
   "metadata": {
    "tags": []
   },
   "outputs": [
    {
     "data": {
      "text/html": [
       "<div>\n",
       "<style scoped>\n",
       "    .dataframe tbody tr th:only-of-type {\n",
       "        vertical-align: middle;\n",
       "    }\n",
       "\n",
       "    .dataframe tbody tr th {\n",
       "        vertical-align: top;\n",
       "    }\n",
       "\n",
       "    .dataframe thead th {\n",
       "        text-align: right;\n",
       "    }\n",
       "</style>\n",
       "<table border=\"1\" class=\"dataframe\">\n",
       "  <thead>\n",
       "    <tr style=\"text-align: right;\">\n",
       "      <th></th>\n",
       "      <th>science</th>\n",
       "      <th>maths</th>\n",
       "      <th>english</th>\n",
       "      <th>hindi</th>\n",
       "      <th>sst</th>\n",
       "      <th>computer</th>\n",
       "      <th>Total</th>\n",
       "    </tr>\n",
       "  </thead>\n",
       "  <tbody>\n",
       "    <tr>\n",
       "      <th>Aman</th>\n",
       "      <td>45</td>\n",
       "      <td>54</td>\n",
       "      <td>84</td>\n",
       "      <td>84</td>\n",
       "      <td>45</td>\n",
       "      <td>54</td>\n",
       "      <td>NaN</td>\n",
       "    </tr>\n",
       "    <tr>\n",
       "      <th>Deepak</th>\n",
       "      <td>36</td>\n",
       "      <td>81</td>\n",
       "      <td>84</td>\n",
       "      <td>35</td>\n",
       "      <td>84</td>\n",
       "      <td>51</td>\n",
       "      <td>NaN</td>\n",
       "    </tr>\n",
       "    <tr>\n",
       "      <th>Rohan</th>\n",
       "      <td>92</td>\n",
       "      <td>68</td>\n",
       "      <td>48</td>\n",
       "      <td>99</td>\n",
       "      <td>63</td>\n",
       "      <td>54</td>\n",
       "      <td>NaN</td>\n",
       "    </tr>\n",
       "    <tr>\n",
       "      <th>Rohit</th>\n",
       "      <td>56</td>\n",
       "      <td>87</td>\n",
       "      <td>73</td>\n",
       "      <td>56</td>\n",
       "      <td>89</td>\n",
       "      <td>68</td>\n",
       "      <td>NaN</td>\n",
       "    </tr>\n",
       "    <tr>\n",
       "      <th>Harshit</th>\n",
       "      <td>85</td>\n",
       "      <td>51</td>\n",
       "      <td>54</td>\n",
       "      <td>54</td>\n",
       "      <td>45</td>\n",
       "      <td>88</td>\n",
       "      <td>NaN</td>\n",
       "    </tr>\n",
       "    <tr>\n",
       "      <th>varun</th>\n",
       "      <td>52</td>\n",
       "      <td>56</td>\n",
       "      <td>54</td>\n",
       "      <td>78</td>\n",
       "      <td>35</td>\n",
       "      <td>54</td>\n",
       "      <td>NaN</td>\n",
       "    </tr>\n",
       "  </tbody>\n",
       "</table>\n",
       "</div>"
      ],
      "text/plain": [
       "         science  maths  english  hindi  sst  computer  Total\n",
       "Aman          45     54       84     84   45        54    NaN\n",
       "Deepak        36     81       84     35   84        51    NaN\n",
       "Rohan         92     68       48     99   63        54    NaN\n",
       "Rohit         56     87       73     56   89        68    NaN\n",
       "Harshit       85     51       54     54   45        88    NaN\n",
       "varun         52     56       54     78   35        54    NaN"
      ]
     },
     "execution_count": 9,
     "metadata": {},
     "output_type": "execute_result"
    }
   ],
   "source": [
    "complete_data = pd.DataFrame(data,index = row_name)\n",
    "complete_data"
   ]
  },
  {
   "cell_type": "code",
   "execution_count": 10,
   "id": "f29c62e8",
   "metadata": {},
   "outputs": [],
   "source": [
    "summission = np.sum(complete_data,axis = 1)"
   ]
  },
  {
   "cell_type": "code",
   "execution_count": 11,
   "id": "c93f5f29-c341-49cd-87fc-969315d73147",
   "metadata": {
    "tags": []
   },
   "outputs": [],
   "source": [
    "complete_data['Total'] = summission"
   ]
  },
  {
   "cell_type": "code",
   "execution_count": 12,
   "id": "3f84e972",
   "metadata": {},
   "outputs": [
    {
     "data": {
      "text/html": [
       "<div>\n",
       "<style scoped>\n",
       "    .dataframe tbody tr th:only-of-type {\n",
       "        vertical-align: middle;\n",
       "    }\n",
       "\n",
       "    .dataframe tbody tr th {\n",
       "        vertical-align: top;\n",
       "    }\n",
       "\n",
       "    .dataframe thead th {\n",
       "        text-align: right;\n",
       "    }\n",
       "</style>\n",
       "<table border=\"1\" class=\"dataframe\">\n",
       "  <thead>\n",
       "    <tr style=\"text-align: right;\">\n",
       "      <th></th>\n",
       "      <th>science</th>\n",
       "      <th>maths</th>\n",
       "      <th>english</th>\n",
       "      <th>hindi</th>\n",
       "      <th>sst</th>\n",
       "      <th>computer</th>\n",
       "      <th>Total</th>\n",
       "    </tr>\n",
       "  </thead>\n",
       "  <tbody>\n",
       "    <tr>\n",
       "      <th>count</th>\n",
       "      <td>6.000000</td>\n",
       "      <td>6.000000</td>\n",
       "      <td>6.000000</td>\n",
       "      <td>6.000000</td>\n",
       "      <td>6.000000</td>\n",
       "      <td>6.000000</td>\n",
       "      <td>6.000000</td>\n",
       "    </tr>\n",
       "    <tr>\n",
       "      <th>mean</th>\n",
       "      <td>61.000000</td>\n",
       "      <td>66.166667</td>\n",
       "      <td>66.166667</td>\n",
       "      <td>67.666667</td>\n",
       "      <td>60.166667</td>\n",
       "      <td>61.500000</td>\n",
       "      <td>382.666667</td>\n",
       "    </tr>\n",
       "    <tr>\n",
       "      <th>std</th>\n",
       "      <td>22.467755</td>\n",
       "      <td>15.091940</td>\n",
       "      <td>16.179205</td>\n",
       "      <td>23.432172</td>\n",
       "      <td>22.364406</td>\n",
       "      <td>14.307341</td>\n",
       "      <td>37.898109</td>\n",
       "    </tr>\n",
       "    <tr>\n",
       "      <th>min</th>\n",
       "      <td>36.000000</td>\n",
       "      <td>51.000000</td>\n",
       "      <td>48.000000</td>\n",
       "      <td>35.000000</td>\n",
       "      <td>35.000000</td>\n",
       "      <td>51.000000</td>\n",
       "      <td>329.000000</td>\n",
       "    </tr>\n",
       "    <tr>\n",
       "      <th>25%</th>\n",
       "      <td>46.750000</td>\n",
       "      <td>54.500000</td>\n",
       "      <td>54.000000</td>\n",
       "      <td>54.500000</td>\n",
       "      <td>45.000000</td>\n",
       "      <td>54.000000</td>\n",
       "      <td>367.250000</td>\n",
       "    </tr>\n",
       "    <tr>\n",
       "      <th>50%</th>\n",
       "      <td>54.000000</td>\n",
       "      <td>62.000000</td>\n",
       "      <td>63.500000</td>\n",
       "      <td>67.000000</td>\n",
       "      <td>54.000000</td>\n",
       "      <td>54.000000</td>\n",
       "      <td>374.000000</td>\n",
       "    </tr>\n",
       "    <tr>\n",
       "      <th>75%</th>\n",
       "      <td>77.750000</td>\n",
       "      <td>77.750000</td>\n",
       "      <td>81.250000</td>\n",
       "      <td>82.500000</td>\n",
       "      <td>78.750000</td>\n",
       "      <td>64.500000</td>\n",
       "      <td>412.250000</td>\n",
       "    </tr>\n",
       "    <tr>\n",
       "      <th>max</th>\n",
       "      <td>92.000000</td>\n",
       "      <td>87.000000</td>\n",
       "      <td>84.000000</td>\n",
       "      <td>99.000000</td>\n",
       "      <td>89.000000</td>\n",
       "      <td>88.000000</td>\n",
       "      <td>429.000000</td>\n",
       "    </tr>\n",
       "  </tbody>\n",
       "</table>\n",
       "</div>"
      ],
      "text/plain": [
       "         science      maths    english      hindi        sst   computer  \\\n",
       "count   6.000000   6.000000   6.000000   6.000000   6.000000   6.000000   \n",
       "mean   61.000000  66.166667  66.166667  67.666667  60.166667  61.500000   \n",
       "std    22.467755  15.091940  16.179205  23.432172  22.364406  14.307341   \n",
       "min    36.000000  51.000000  48.000000  35.000000  35.000000  51.000000   \n",
       "25%    46.750000  54.500000  54.000000  54.500000  45.000000  54.000000   \n",
       "50%    54.000000  62.000000  63.500000  67.000000  54.000000  54.000000   \n",
       "75%    77.750000  77.750000  81.250000  82.500000  78.750000  64.500000   \n",
       "max    92.000000  87.000000  84.000000  99.000000  89.000000  88.000000   \n",
       "\n",
       "            Total  \n",
       "count    6.000000  \n",
       "mean   382.666667  \n",
       "std     37.898109  \n",
       "min    329.000000  \n",
       "25%    367.250000  \n",
       "50%    374.000000  \n",
       "75%    412.250000  \n",
       "max    429.000000  "
      ]
     },
     "execution_count": 12,
     "metadata": {},
     "output_type": "execute_result"
    }
   ],
   "source": [
    "complete_data.describe()"
   ]
  },
  {
   "cell_type": "code",
   "execution_count": 13,
   "id": "71048ad8",
   "metadata": {},
   "outputs": [],
   "source": [
    "percentage1 = [61,66,66,67,60,61]\n",
    "complete_data['percentage'] = percentage1"
   ]
  },
  {
   "cell_type": "code",
   "execution_count": 14,
   "id": "42cb2c74",
   "metadata": {},
   "outputs": [],
   "source": [
    "from sklearn.model_selection import train_test_split"
   ]
  },
  {
   "cell_type": "code",
   "execution_count": 15,
   "id": "37e5286a",
   "metadata": {},
   "outputs": [],
   "source": [
    "X = complete_data['Total'].values.reshape(-1, 1)\n",
    "y = complete_data['percentage'].values"
   ]
  },
  {
   "cell_type": "code",
   "execution_count": 16,
   "id": "cb5f1949",
   "metadata": {},
   "outputs": [
    {
     "data": {
      "text/plain": [
       "array([[329.],\n",
       "       [424.],\n",
       "       [377.],\n",
       "       [429.]])"
      ]
     },
     "execution_count": 16,
     "metadata": {},
     "output_type": "execute_result"
    }
   ],
   "source": [
    "X_train, X_test, y_train, y_test = train_test_split(X, y, test_size=0.2, random_state=42)\n",
    "X_train"
   ]
  },
  {
   "cell_type": "code",
   "execution_count": 17,
   "id": "f7996301-121b-49f9-9bd5-ad7f72e5cc67",
   "metadata": {
    "tags": []
   },
   "outputs": [],
   "source": [
    "from sklearn.linear_model import LinearRegression "
   ]
  },
  {
   "cell_type": "code",
   "execution_count": 18,
   "id": "7ece4b48-1d80-412b-a918-570c2d8a7f8a",
   "metadata": {},
   "outputs": [
    {
     "data": {
      "text/html": [
       "<style>#sk-container-id-1 {color: black;}#sk-container-id-1 pre{padding: 0;}#sk-container-id-1 div.sk-toggleable {background-color: white;}#sk-container-id-1 label.sk-toggleable__label {cursor: pointer;display: block;width: 100%;margin-bottom: 0;padding: 0.3em;box-sizing: border-box;text-align: center;}#sk-container-id-1 label.sk-toggleable__label-arrow:before {content: \"▸\";float: left;margin-right: 0.25em;color: #696969;}#sk-container-id-1 label.sk-toggleable__label-arrow:hover:before {color: black;}#sk-container-id-1 div.sk-estimator:hover label.sk-toggleable__label-arrow:before {color: black;}#sk-container-id-1 div.sk-toggleable__content {max-height: 0;max-width: 0;overflow: hidden;text-align: left;background-color: #f0f8ff;}#sk-container-id-1 div.sk-toggleable__content pre {margin: 0.2em;color: black;border-radius: 0.25em;background-color: #f0f8ff;}#sk-container-id-1 input.sk-toggleable__control:checked~div.sk-toggleable__content {max-height: 200px;max-width: 100%;overflow: auto;}#sk-container-id-1 input.sk-toggleable__control:checked~label.sk-toggleable__label-arrow:before {content: \"▾\";}#sk-container-id-1 div.sk-estimator input.sk-toggleable__control:checked~label.sk-toggleable__label {background-color: #d4ebff;}#sk-container-id-1 div.sk-label input.sk-toggleable__control:checked~label.sk-toggleable__label {background-color: #d4ebff;}#sk-container-id-1 input.sk-hidden--visually {border: 0;clip: rect(1px 1px 1px 1px);clip: rect(1px, 1px, 1px, 1px);height: 1px;margin: -1px;overflow: hidden;padding: 0;position: absolute;width: 1px;}#sk-container-id-1 div.sk-estimator {font-family: monospace;background-color: #f0f8ff;border: 1px dotted black;border-radius: 0.25em;box-sizing: border-box;margin-bottom: 0.5em;}#sk-container-id-1 div.sk-estimator:hover {background-color: #d4ebff;}#sk-container-id-1 div.sk-parallel-item::after {content: \"\";width: 100%;border-bottom: 1px solid gray;flex-grow: 1;}#sk-container-id-1 div.sk-label:hover label.sk-toggleable__label {background-color: #d4ebff;}#sk-container-id-1 div.sk-serial::before {content: \"\";position: absolute;border-left: 1px solid gray;box-sizing: border-box;top: 0;bottom: 0;left: 50%;z-index: 0;}#sk-container-id-1 div.sk-serial {display: flex;flex-direction: column;align-items: center;background-color: white;padding-right: 0.2em;padding-left: 0.2em;position: relative;}#sk-container-id-1 div.sk-item {position: relative;z-index: 1;}#sk-container-id-1 div.sk-parallel {display: flex;align-items: stretch;justify-content: center;background-color: white;position: relative;}#sk-container-id-1 div.sk-item::before, #sk-container-id-1 div.sk-parallel-item::before {content: \"\";position: absolute;border-left: 1px solid gray;box-sizing: border-box;top: 0;bottom: 0;left: 50%;z-index: -1;}#sk-container-id-1 div.sk-parallel-item {display: flex;flex-direction: column;z-index: 1;position: relative;background-color: white;}#sk-container-id-1 div.sk-parallel-item:first-child::after {align-self: flex-end;width: 50%;}#sk-container-id-1 div.sk-parallel-item:last-child::after {align-self: flex-start;width: 50%;}#sk-container-id-1 div.sk-parallel-item:only-child::after {width: 0;}#sk-container-id-1 div.sk-dashed-wrapped {border: 1px dashed gray;margin: 0 0.4em 0.5em 0.4em;box-sizing: border-box;padding-bottom: 0.4em;background-color: white;}#sk-container-id-1 div.sk-label label {font-family: monospace;font-weight: bold;display: inline-block;line-height: 1.2em;}#sk-container-id-1 div.sk-label-container {text-align: center;}#sk-container-id-1 div.sk-container {/* jupyter's `normalize.less` sets `[hidden] { display: none; }` but bootstrap.min.css set `[hidden] { display: none !important; }` so we also need the `!important` here to be able to override the default hidden behavior on the sphinx rendered scikit-learn.org. See: https://github.com/scikit-learn/scikit-learn/issues/21755 */display: inline-block !important;position: relative;}#sk-container-id-1 div.sk-text-repr-fallback {display: none;}</style><div id=\"sk-container-id-1\" class=\"sk-top-container\"><div class=\"sk-text-repr-fallback\"><pre>LinearRegression()</pre><b>In a Jupyter environment, please rerun this cell to show the HTML representation or trust the notebook. <br />On GitHub, the HTML representation is unable to render, please try loading this page with nbviewer.org.</b></div><div class=\"sk-container\" hidden><div class=\"sk-item\"><div class=\"sk-estimator sk-toggleable\"><input class=\"sk-toggleable__control sk-hidden--visually\" id=\"sk-estimator-id-1\" type=\"checkbox\" checked><label for=\"sk-estimator-id-1\" class=\"sk-toggleable__label sk-toggleable__label-arrow\">LinearRegression</label><div class=\"sk-toggleable__content\"><pre>LinearRegression()</pre></div></div></div></div></div>"
      ],
      "text/plain": [
       "LinearRegression()"
      ]
     },
     "execution_count": 18,
     "metadata": {},
     "output_type": "execute_result"
    }
   ],
   "source": [
    "reg = LinearRegression()\n",
    "fit = reg.fit(X_train,y_train)\n",
    "fit"
   ]
  },
  {
   "cell_type": "code",
   "execution_count": 48,
   "id": "04e0c5d6",
   "metadata": {},
   "outputs": [
    {
     "data": {
      "text/plain": [
       "(array([59.61914189, 65.6879735 , 62.68549891, 66.00738569]),\n",
       " array([61.9827921 , 62.30220429]))"
      ]
     },
     "execution_count": 48,
     "metadata": {},
     "output_type": "execute_result"
    }
   ],
   "source": [
    "model_tr = reg.predict(X_train)\n",
    "model_te = reg.predict(X_test)\n",
    "model_tr,model_te"
   ]
  },
  {
   "cell_type": "code",
   "execution_count": 20,
   "id": "231019bf",
   "metadata": {},
   "outputs": [
    {
     "data": {
      "text/html": [
       "<div>\n",
       "<style scoped>\n",
       "    .dataframe tbody tr th:only-of-type {\n",
       "        vertical-align: middle;\n",
       "    }\n",
       "\n",
       "    .dataframe tbody tr th {\n",
       "        vertical-align: top;\n",
       "    }\n",
       "\n",
       "    .dataframe thead th {\n",
       "        text-align: right;\n",
       "    }\n",
       "</style>\n",
       "<table border=\"1\" class=\"dataframe\">\n",
       "  <thead>\n",
       "    <tr style=\"text-align: right;\">\n",
       "      <th></th>\n",
       "      <th>science</th>\n",
       "      <th>maths</th>\n",
       "      <th>english</th>\n",
       "      <th>hindi</th>\n",
       "      <th>sst</th>\n",
       "      <th>computer</th>\n",
       "      <th>Total</th>\n",
       "      <th>percentage</th>\n",
       "    </tr>\n",
       "  </thead>\n",
       "  <tbody>\n",
       "    <tr>\n",
       "      <th>Aman</th>\n",
       "      <td>45</td>\n",
       "      <td>54</td>\n",
       "      <td>84</td>\n",
       "      <td>84</td>\n",
       "      <td>45</td>\n",
       "      <td>54</td>\n",
       "      <td>366.0</td>\n",
       "      <td>61</td>\n",
       "    </tr>\n",
       "    <tr>\n",
       "      <th>Deepak</th>\n",
       "      <td>36</td>\n",
       "      <td>81</td>\n",
       "      <td>84</td>\n",
       "      <td>35</td>\n",
       "      <td>84</td>\n",
       "      <td>51</td>\n",
       "      <td>371.0</td>\n",
       "      <td>66</td>\n",
       "    </tr>\n",
       "    <tr>\n",
       "      <th>Rohan</th>\n",
       "      <td>92</td>\n",
       "      <td>68</td>\n",
       "      <td>48</td>\n",
       "      <td>99</td>\n",
       "      <td>63</td>\n",
       "      <td>54</td>\n",
       "      <td>424.0</td>\n",
       "      <td>66</td>\n",
       "    </tr>\n",
       "    <tr>\n",
       "      <th>Rohit</th>\n",
       "      <td>56</td>\n",
       "      <td>87</td>\n",
       "      <td>73</td>\n",
       "      <td>56</td>\n",
       "      <td>89</td>\n",
       "      <td>68</td>\n",
       "      <td>429.0</td>\n",
       "      <td>67</td>\n",
       "    </tr>\n",
       "    <tr>\n",
       "      <th>Harshit</th>\n",
       "      <td>85</td>\n",
       "      <td>51</td>\n",
       "      <td>54</td>\n",
       "      <td>54</td>\n",
       "      <td>45</td>\n",
       "      <td>88</td>\n",
       "      <td>377.0</td>\n",
       "      <td>60</td>\n",
       "    </tr>\n",
       "    <tr>\n",
       "      <th>varun</th>\n",
       "      <td>52</td>\n",
       "      <td>56</td>\n",
       "      <td>54</td>\n",
       "      <td>78</td>\n",
       "      <td>35</td>\n",
       "      <td>54</td>\n",
       "      <td>329.0</td>\n",
       "      <td>61</td>\n",
       "    </tr>\n",
       "  </tbody>\n",
       "</table>\n",
       "</div>"
      ],
      "text/plain": [
       "         science  maths  english  hindi  sst  computer  Total  percentage\n",
       "Aman          45     54       84     84   45        54  366.0          61\n",
       "Deepak        36     81       84     35   84        51  371.0          66\n",
       "Rohan         92     68       48     99   63        54  424.0          66\n",
       "Rohit         56     87       73     56   89        68  429.0          67\n",
       "Harshit       85     51       54     54   45        88  377.0          60\n",
       "varun         52     56       54     78   35        54  329.0          61"
      ]
     },
     "execution_count": 20,
     "metadata": {},
     "output_type": "execute_result"
    }
   ],
   "source": [
    "complete_data"
   ]
  },
  {
   "cell_type": "code",
   "execution_count": 21,
   "id": "d77d11bc",
   "metadata": {},
   "outputs": [],
   "source": [
    "import matplotlib.pyplot as plt\n",
    "import seaborn as sns "
   ]
  },
  {
   "cell_type": "code",
   "execution_count": 22,
   "id": "4e5331b7",
   "metadata": {},
   "outputs": [
    {
     "data": {
      "image/png": "[encoded data removed]",
      "text/plain": [
       "<Figure size 640x480 with 1 Axes>"
      ]
     },
     "metadata": {},
     "output_type": "display_data"
    }
   ],
   "source": [
    "plt.scatter(X_train, y_train, color = 'lightcoral')\n",
    "plt.plot(X_train, model_tr, color = 'firebrick')\n",
    "plt.title('Marks corr')\n",
    "plt.xlabel('Student_marks ')\n",
    "plt.ylabel('Student_percentage')\n",
    "plt.legend(['X_train/Pred(y_test)', 'X_train/y_train'], title = 'Studenpercentage', loc='best', facecolor='white')\n",
    "plt.box(False)\n",
    "plt.show()"
   ]
  },
  {
   "cell_type": "code",
   "execution_count": 23,
   "id": "2be01346",
   "metadata": {},
   "outputs": [],
   "source": [
    "from sklearn.metrics import mean_squared_error, r2_score"
   ]
  },
  {
   "cell_type": "code",
   "execution_count": 24,
   "id": "043ddf34",
   "metadata": {},
   "outputs": [
    {
     "name": "stdout",
     "output_type": "stream",
     "text": [
      "Mean Squared Error: 7.319786720991422\n",
      "R^2 Score: -0.1711658753586276\n"
     ]
    }
   ],
   "source": [
    "mse = mean_squared_error(y_test, model_te)\n",
    "r2 = r2_score(y_test, model_te)\n",
    "print(f'Mean Squared Error: {mse}')\n",
    "print(f'R^2 Score: {r2}')"
   ]
  },
  {
   "cell_type": "code",
   "execution_count": 54,
   "id": "11fe0bf6",
   "metadata": {},
   "outputs": [
    {
     "name": "stdout",
     "output_type": "stream",
     "text": [
      "Slope: 0.060155959896027386, Intercept: 40.48031934645352\n",
      "0.9780537668543994\n"
     ]
    }
   ],
   "source": [
    "x = np.array([366,371,424,429,377,329])\n",
    "y = np.array([61,66,66,67,60,61])\n",
    "\n",
    "def calculate_coeff(X,y):\n",
    "    n = np.size(X)\n",
    "    X_mean = np.mean(X)\n",
    "    Y_mean = np.mean(y)\n",
    "    \n",
    "    # To calculate slope we need value \n",
    "    sumission_Xy = np.sum(y*X) - n*Y_mean*X_mean\n",
    "    sumission_xx = np.sum(X*X) - n*X_mean*X_mean\n",
    "    \n",
    "    # finding slope \n",
    "    slope = sumission_Xy / sumission_xx\n",
    "    intercept = Y_mean - slope*X_mean\n",
    "    \n",
    "    return slope,intercept\n",
    "def predict(slope,X,intercept):\n",
    "    return slope*X+intercept\n",
    "\n",
    "slope,intercept = calculate_coeff(x,y)\n",
    "print(f\"Slope: {slope}, Intercept: {intercept}\")\n",
    "\n",
    "y_pred = predict(slope,x,intercept)\n",
    "predict(x,y,intercept)\n",
    "\n",
    "# this work is for r2 score \n",
    "\n",
    "# y_pred1=[[22366.48031935, 24526.48031935, 28024.48031935, 28783.48031935,\n",
    "#        22660.48031935, 20109.48031935]]\n",
    "y_pred2 = [44.1498329 , 44.4506127 , 44.4506127 , 44.51076866, 44.08967694,44.1498329 ]\n",
    "\n",
    "mean_of_actual = np.mean(y)\n",
    "\n",
    "r2 = np.sum((y-mean_of_actual)**2)\n",
    "lower_val = np.sum((y-y_pred2)**2)\n",
    "summission = 1-(r2/lower_val)\n",
    "print(summission)\n"
   ]
  },
  {
   "cell_type": "code",
   "execution_count": 53,
   "id": "293e9fae",
   "metadata": {},
   "outputs": [
    {
     "data": {
      "text/plain": [
       "array([44.1498329 , 44.4506127 , 44.4506127 , 44.51076866, 44.08967694,\n",
       "       44.1498329 ])"
      ]
     },
     "execution_count": 53,
     "metadata": {},
     "output_type": "execute_result"
    }
   ],
   "source": [
    "predict(slope,y,intercept)"
   ]
  },
  {
   "cell_type": "code",
   "execution_count": null,
   "id": "37e786b0",
   "metadata": {},
   "outputs": [],
   "source": []
  },
  {
   "cell_type": "code",
   "execution_count": null,
   "id": "b8c21df4",
   "metadata": {},
   "outputs": [],
   "source": []
  },
  {
   "cell_type": "code",
   "execution_count": null,
   "id": "46364c41",
   "metadata": {},
   "outputs": [],
   "source": []
  },
  {
   "cell_type": "code",
   "execution_count": null,
   "id": "a0ab4e5a",
   "metadata": {},
   "outputs": [],
   "source": []
  }
 ],
 "metadata": {
  "kernelspec": {
   "display_name": "Python 3 (ipykernel)",
   "language": "python",
   "name": "python3"
  },
  "language_info": {
   "codemirror_mode": {
    "name": "ipython",
    "version": 3
   },
   "file_extension": ".py",
   "mimetype": "text/x-python",
   "name": "python",
   "nbconvert_exporter": "python",
   "pygments_lexer": "ipython3",
   "version": "3.11.5"
  }
 },
 "nbformat": 4,
 "nbformat_minor": 5
}
